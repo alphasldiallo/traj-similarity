{
 "cells": [
  {
   "cell_type": "code",
   "execution_count": 8,
   "metadata": {},
   "outputs": [
    {
     "name": "stdout",
     "output_type": "stream",
     "text": [
      "ThingyDfu\n",
      "ThingyDfu\n",
      "ThingyDfu\n"
     ]
    }
   ],
   "source": [
    "from time import sleep\n",
    "from bleson import get_provider, Observer\n",
    "\n",
    "def on_advertisement(advertisement):\n",
    "    if \"Thingy\" in advertisement.name:\n",
    "       print(advertisement.address)\n",
    "\n",
    "adapter = get_provider().get_adapter()\n",
    "\n",
    "observer = Observer(adapter)\n",
    "observer.on_advertising_data = on_advertisement\n",
    "\n",
    "observer.start()\n",
    "sleep(2)\n",
    "observer.stop()"
   ]
  },
  {
   "cell_type": "code",
   "execution_count": null,
   "metadata": {},
   "outputs": [],
   "source": [
    "def scan():\n",
    "    scanner = Scanner(0)\n",
    "    devices = scanner.scan(3) # List of ScanEntry objects\n",
    "    while True:\n",
    "        scanner = Scanner(0)\n",
    "        devices = scanner.scan(3)  # List of ScanEntry objects\n",
    "        for dev in devices:\n",
    "            for (adtype, desc, value) in dev.getScanData():\n",
    "                if \"Thingy\" in value:\n",
    "                    print(\"addr {}, addrtype {}, value {}\".format(dev.addr, dev.addrType, value))\n",
    "\n",
    "\n",
    "scan()"
   ]
  }
 ],
 "metadata": {
  "kernelspec": {
   "display_name": "Python 3",
   "language": "python",
   "name": "python3"
  },
  "language_info": {
   "codemirror_mode": {
    "name": "ipython",
    "version": 3
   },
   "file_extension": ".py",
   "mimetype": "text/x-python",
   "name": "python",
   "nbconvert_exporter": "python",
   "pygments_lexer": "ipython3",
   "version": "3.8.5"
  }
 },
 "nbformat": 4,
 "nbformat_minor": 4
}
